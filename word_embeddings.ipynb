{
  "nbformat": 4,
  "nbformat_minor": 0,
  "metadata": {
    "colab": {
      "provenance": [],
      "authorship_tag": "ABX9TyOVE8CoDWfC6yuWwytRyeW0",
      "include_colab_link": true
    },
    "kernelspec": {
      "name": "python3",
      "display_name": "Python 3"
    },
    "language_info": {
      "name": "python"
    }
  },
  "cells": [
    {
      "cell_type": "markdown",
      "metadata": {
        "id": "view-in-github",
        "colab_type": "text"
      },
      "source": [
        "<a href=\"https://colab.research.google.com/github/ShivinM-17/nlp-practices/blob/main/word_embeddings.ipynb\" target=\"_parent\"><img src=\"https://colab.research.google.com/assets/colab-badge.svg\" alt=\"Open In Colab\"/></a>"
      ]
    },
    {
      "cell_type": "code",
      "execution_count": null,
      "metadata": {
        "id": "hmCNDgAaNH19"
      },
      "outputs": [],
      "source": [
        "import gdown"
      ]
    },
    {
      "cell_type": "markdown",
      "source": [
        "## Implementing Word2Vec analogies (from Google)"
      ],
      "metadata": {
        "id": "ePOfp-tnYIE6"
      }
    },
    {
      "cell_type": "markdown",
      "source": [
        "### Loading the dataset"
      ],
      "metadata": {
        "id": "sWzZoycWOWo-"
      }
    },
    {
      "cell_type": "code",
      "source": [
        "!gdown https://drive.google.com/uc?id=0B7XkCwpI5KDYNlNUTTlSS21pQmM"
      ],
      "metadata": {
        "colab": {
          "base_uri": "https://localhost:8080/"
        },
        "id": "-RDgz1oONK6z",
        "outputId": "2fe03261-ebb2-4ee0-f032-2d1d6bf5ac72"
      },
      "execution_count": null,
      "outputs": [
        {
          "output_type": "stream",
          "name": "stdout",
          "text": [
            "Downloading...\n",
            "From: https://drive.google.com/uc?id=0B7XkCwpI5KDYNlNUTTlSS21pQmM\n",
            "To: /content/GoogleNews-vectors-negative300.bin.gz\n",
            "100% 1.65G/1.65G [00:23<00:00, 71.6MB/s]\n"
          ]
        }
      ]
    },
    {
      "cell_type": "code",
      "source": [
        "!gunzip GoogleNews-vectors-negative300.bin.gz"
      ],
      "metadata": {
        "id": "v1jU49t-NiMN"
      },
      "execution_count": null,
      "outputs": []
    },
    {
      "cell_type": "markdown",
      "source": [
        "### Importing and using the necessary modules for word embeddings"
      ],
      "metadata": {
        "id": "pfpSOAGjOaGN"
      }
    },
    {
      "cell_type": "code",
      "source": [
        "# API with abiltiy to interact with the word embedding we have downloaded\n",
        "from gensim.models import KeyedVectors"
      ],
      "metadata": {
        "id": "Eq7vI-urONeB"
      },
      "execution_count": null,
      "outputs": []
    },
    {
      "cell_type": "code",
      "source": [
        "word_vectors = KeyedVectors.load_word2vec_format(\n",
        "    'GoogleNews-vectors-negative300.bin',\n",
        "    binary=True\n",
        ")"
      ],
      "metadata": {
        "id": "oGNP1i0FOVHV"
      },
      "execution_count": null,
      "outputs": []
    },
    {
      "cell_type": "code",
      "source": [
        "word_vectors"
      ],
      "metadata": {
        "colab": {
          "base_uri": "https://localhost:8080/"
        },
        "id": "bPvS8i5TOVD8",
        "outputId": "5a979c8a-acc6-48a5-d7cd-70a93476be72"
      },
      "execution_count": null,
      "outputs": [
        {
          "output_type": "execute_result",
          "data": {
            "text/plain": [
              "<gensim.models.keyedvectors.KeyedVectors at 0x78c2aa8bf820>"
            ]
          },
          "metadata": {},
          "execution_count": 10
        }
      ]
    },
    {
      "cell_type": "code",
      "source": [
        "def find_analogies(w1, w2, w3):\n",
        "  # Their position in analogies is as follows\n",
        "  # w1 - w2 = ? - w3\n",
        "  # eg. king - man = ? - woman\n",
        "  # (or) ? = king - man + woman\n",
        "  r = word_vectors.most_similar(positive=[w1,w3], negative=[w2])\n",
        "  print(f\"{w1} - {w2} = {r[0][0]} - {w3}\")\n"
      ],
      "metadata": {
        "id": "n4BmskfzOVBq"
      },
      "execution_count": null,
      "outputs": []
    },
    {
      "cell_type": "code",
      "source": [
        "find_analogies('king', 'man', 'woman')"
      ],
      "metadata": {
        "colab": {
          "base_uri": "https://localhost:8080/"
        },
        "id": "Qzv-rhUQOU-4",
        "outputId": "7a7a8c35-0d4f-492d-a524-cc58a4f6a92d"
      },
      "execution_count": null,
      "outputs": [
        {
          "output_type": "stream",
          "name": "stdout",
          "text": [
            "king - man = queen - woman\n"
          ]
        }
      ]
    },
    {
      "cell_type": "code",
      "source": [
        "find_analogies('france', 'paris', 'rome')"
      ],
      "metadata": {
        "colab": {
          "base_uri": "https://localhost:8080/"
        },
        "id": "1_5sf-iEOU8L",
        "outputId": "871054ce-23c2-4e72-eceb-e6e2e9fcc046"
      },
      "execution_count": null,
      "outputs": [
        {
          "output_type": "stream",
          "name": "stdout",
          "text": [
            "france - paris = italy - rome\n"
          ]
        }
      ]
    },
    {
      "cell_type": "code",
      "source": [
        "find_analogies('paris', 'france', 'english')"
      ],
      "metadata": {
        "colab": {
          "base_uri": "https://localhost:8080/"
        },
        "id": "_AMTB3LvOU6D",
        "outputId": "4f0ba938-5ed2-43db-b178-3dbebde3d973"
      },
      "execution_count": null,
      "outputs": [
        {
          "output_type": "stream",
          "name": "stdout",
          "text": [
            "paris - france = grammer - english\n"
          ]
        }
      ]
    },
    {
      "cell_type": "code",
      "source": [
        "find_analogies('france', 'french', 'english')"
      ],
      "metadata": {
        "colab": {
          "base_uri": "https://localhost:8080/"
        },
        "id": "VJeHN4AiQdUa",
        "outputId": "3589c003-7600-45ce-c8ef-4e9580e6b42d"
      },
      "execution_count": null,
      "outputs": [
        {
          "output_type": "stream",
          "name": "stdout",
          "text": [
            "france - french = england - english\n"
          ]
        }
      ]
    },
    {
      "cell_type": "code",
      "source": [
        "find_analogies('japan', 'japanese', 'chinese')"
      ],
      "metadata": {
        "colab": {
          "base_uri": "https://localhost:8080/"
        },
        "id": "gNF4nVuuQO-G",
        "outputId": "44822896-133c-4a2f-db65-1168549ed8a0"
      },
      "execution_count": null,
      "outputs": [
        {
          "output_type": "stream",
          "name": "stdout",
          "text": [
            "japan - japanese = tibet - chinese\n"
          ]
        }
      ]
    },
    {
      "cell_type": "code",
      "source": [
        "find_analogies('japan', 'japanese', 'italian')"
      ],
      "metadata": {
        "colab": {
          "base_uri": "https://localhost:8080/"
        },
        "id": "v76PwkrZQutR",
        "outputId": "c22e0cf4-ae1a-4e80-c34c-e50889401999"
      },
      "execution_count": null,
      "outputs": [
        {
          "output_type": "stream",
          "name": "stdout",
          "text": [
            "japan - japanese = italy - italian\n"
          ]
        }
      ]
    },
    {
      "cell_type": "code",
      "source": [
        "find_analogies('december', 'november', 'june')"
      ],
      "metadata": {
        "colab": {
          "base_uri": "https://localhost:8080/"
        },
        "id": "pzwyHQsLQUec",
        "outputId": "154b3737-55d8-4059-b3ad-8c500b1b7871"
      },
      "execution_count": null,
      "outputs": [
        {
          "output_type": "stream",
          "name": "stdout",
          "text": [
            "december - november = september - june\n"
          ]
        }
      ]
    },
    {
      "cell_type": "code",
      "source": [
        "find_analogies('man', 'woman', 'aunt')"
      ],
      "metadata": {
        "colab": {
          "base_uri": "https://localhost:8080/"
        },
        "id": "FtWBKa3BQqkQ",
        "outputId": "9fd66dfe-bfbb-4442-b8a6-ba5f2e08612a"
      },
      "execution_count": null,
      "outputs": [
        {
          "output_type": "stream",
          "name": "stdout",
          "text": [
            "man - woman = uncle - aunt\n"
          ]
        }
      ]
    },
    {
      "cell_type": "code",
      "source": [
        "find_analogies('man', 'woman', 'sister')"
      ],
      "metadata": {
        "colab": {
          "base_uri": "https://localhost:8080/"
        },
        "id": "R-vQMKm3Q2Lc",
        "outputId": "483cc178-f72a-4dac-9e4d-57f3199efd11"
      },
      "execution_count": null,
      "outputs": [
        {
          "output_type": "stream",
          "name": "stdout",
          "text": [
            "man - woman = brother - sister\n"
          ]
        }
      ]
    },
    {
      "cell_type": "code",
      "source": [
        "find_analogies('nephew', 'niece', 'girlfriend')"
      ],
      "metadata": {
        "colab": {
          "base_uri": "https://localhost:8080/"
        },
        "id": "lXAm2q7TQ6hM",
        "outputId": "2025c11e-46e7-4cae-80bf-88d4183527e8"
      },
      "execution_count": null,
      "outputs": [
        {
          "output_type": "stream",
          "name": "stdout",
          "text": [
            "nephew - niece = boyfriend - girlfriend\n"
          ]
        }
      ]
    },
    {
      "cell_type": "markdown",
      "source": [
        "### Finding the most similar words for a given word"
      ],
      "metadata": {
        "id": "VjX9WNPUXO3M"
      }
    },
    {
      "cell_type": "code",
      "source": [
        "def nearest_neighbors(word):\n",
        "  r = word_vectors.most_similar(positive=[word])\n",
        "  print(f\"Neighbors of {word} are:\")\n",
        "  for word, score in r:\n",
        "    print(f\"{word}\")"
      ],
      "metadata": {
        "id": "JkPG37IYXCBS"
      },
      "execution_count": null,
      "outputs": []
    },
    {
      "cell_type": "code",
      "source": [
        "nearest_neighbors('king')"
      ],
      "metadata": {
        "colab": {
          "base_uri": "https://localhost:8080/"
        },
        "id": "Lo7yrTKEXmqI",
        "outputId": "a7e8a6c9-7ec6-42f9-ee15-203f66ecc9bc"
      },
      "execution_count": null,
      "outputs": [
        {
          "output_type": "stream",
          "name": "stdout",
          "text": [
            "Neighbors of king are:\n",
            "kings\n",
            "queen\n",
            "monarch\n",
            "crown_prince\n",
            "prince\n",
            "sultan\n",
            "ruler\n",
            "princes\n",
            "Prince_Paras\n",
            "throne\n"
          ]
        }
      ]
    },
    {
      "cell_type": "code",
      "source": [
        "nearest_neighbors('queen')"
      ],
      "metadata": {
        "colab": {
          "base_uri": "https://localhost:8080/"
        },
        "id": "2Zw0uXDdXrfH",
        "outputId": "afbb02b4-3f3a-431b-8f0c-e00b708a4960"
      },
      "execution_count": null,
      "outputs": [
        {
          "output_type": "stream",
          "name": "stdout",
          "text": [
            "Neighbors of queen are:\n",
            "queens\n",
            "princess\n",
            "king\n",
            "monarch\n",
            "very_pampered_McElhatton\n",
            "Queen\n",
            "NYC_anglophiles_aflutter\n",
            "Queen_Consort\n",
            "princesses\n",
            "royal\n"
          ]
        }
      ]
    },
    {
      "cell_type": "code",
      "source": [
        "nearest_neighbors('japan')"
      ],
      "metadata": {
        "colab": {
          "base_uri": "https://localhost:8080/"
        },
        "id": "-n_aMKLNXvsH",
        "outputId": "489ba32d-9ae4-4699-8dfe-9635218093bc"
      },
      "execution_count": null,
      "outputs": [
        {
          "output_type": "stream",
          "name": "stdout",
          "text": [
            "Neighbors of japan are:\n",
            "japanese\n",
            "tokyo\n",
            "america\n",
            "europe\n",
            "germany\n",
            "chinese\n",
            "india\n",
            "hawaii\n",
            "usa\n",
            "korea\n"
          ]
        }
      ]
    },
    {
      "cell_type": "code",
      "source": [
        "nearest_neighbors('france')"
      ],
      "metadata": {
        "colab": {
          "base_uri": "https://localhost:8080/"
        },
        "id": "cx395qiJX11R",
        "outputId": "9b59cfbc-56db-4cfb-8fd5-c5c8a3f8127c"
      },
      "execution_count": null,
      "outputs": [
        {
          "output_type": "stream",
          "name": "stdout",
          "text": [
            "Neighbors of france are:\n",
            "spain\n",
            "french\n",
            "germany\n",
            "europe\n",
            "italy\n",
            "england\n",
            "european\n",
            "belgium\n",
            "usa\n",
            "serbia\n"
          ]
        }
      ]
    },
    {
      "cell_type": "code",
      "source": [
        "nearest_neighbors('newton')"
      ],
      "metadata": {
        "colab": {
          "base_uri": "https://localhost:8080/"
        },
        "id": "BRME0kukX3EI",
        "outputId": "5e7acccf-8d39-4f48-a7d7-b755e47e5383"
      },
      "execution_count": null,
      "outputs": [
        {
          "output_type": "stream",
          "name": "stdout",
          "text": [
            "Neighbors of newton are:\n",
            "jerome\n",
            "thompson\n",
            "thomas\n",
            "walsh\n",
            "richards\n",
            "carl\n",
            "alexander\n",
            "phillips\n",
            "brandon\n",
            "anderson\n"
          ]
        }
      ]
    },
    {
      "cell_type": "code",
      "source": [
        "nearest_neighbors('boy')"
      ],
      "metadata": {
        "colab": {
          "base_uri": "https://localhost:8080/"
        },
        "id": "O_aMeTLKX5Sp",
        "outputId": "beec8094-f84b-402b-cabe-18f4bf20dde9"
      },
      "execution_count": null,
      "outputs": [
        {
          "output_type": "stream",
          "name": "stdout",
          "text": [
            "Neighbors of boy are:\n",
            "girl\n",
            "teenager\n",
            "toddler\n",
            "teenage_girl\n",
            "man\n",
            "teen_ager\n",
            "son\n",
            "kid\n",
            "youngster\n",
            "stepfather\n"
          ]
        }
      ]
    },
    {
      "cell_type": "code",
      "source": [
        "nearest_neighbors('robot')"
      ],
      "metadata": {
        "colab": {
          "base_uri": "https://localhost:8080/"
        },
        "id": "fZtDxYqoX7E6",
        "outputId": "351f3581-72bf-4c66-de9e-936273bf9945"
      },
      "execution_count": null,
      "outputs": [
        {
          "output_type": "stream",
          "name": "stdout",
          "text": [
            "Neighbors of robot are:\n",
            "robots\n",
            "robotic\n",
            "Robot\n",
            "humanoid\n",
            "robotics\n",
            "humanoid_robots\n",
            "Honda_Asimo\n",
            "autonomous_robots\n",
            "GeckoSystems_suite\n",
            "i_SOBOT\n"
          ]
        }
      ]
    },
    {
      "cell_type": "markdown",
      "source": [
        "## Implementing GloVe (from Stanford)"
      ],
      "metadata": {
        "id": "6BjyGH_IYOpu"
      }
    },
    {
      "cell_type": "code",
      "source": [],
      "metadata": {
        "id": "cQwQZQKnX-4b"
      },
      "execution_count": null,
      "outputs": []
    }
  ]
}