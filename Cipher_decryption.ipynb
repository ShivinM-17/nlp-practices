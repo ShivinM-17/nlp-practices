{
  "nbformat": 4,
  "nbformat_minor": 0,
  "metadata": {
    "colab": {
      "provenance": [],
      "authorship_tag": "ABX9TyPuRHhAlfYY0OBsD9KMx5Mb",
      "include_colab_link": true
    },
    "kernelspec": {
      "name": "python3",
      "display_name": "Python 3"
    },
    "language_info": {
      "name": "python"
    }
  },
  "cells": [
    {
      "cell_type": "markdown",
      "metadata": {
        "id": "view-in-github",
        "colab_type": "text"
      },
      "source": [
        "<a href=\"https://colab.research.google.com/github/ShivinM-17/nlp-practices/blob/main/Cipher_decryption.ipynb\" target=\"_parent\"><img src=\"https://colab.research.google.com/assets/colab-badge.svg\" alt=\"Open In Colab\"/></a>"
      ]
    },
    {
      "cell_type": "code",
      "execution_count": null,
      "metadata": {
        "id": "X-pG2-H4X-rC"
      },
      "outputs": [],
      "source": [
        "import numpy as np\n",
        "import matplotlib.pyplot as plt\n",
        "\n",
        "import string\n",
        "import random\n",
        "import re\n",
        "import requests\n",
        "import os\n",
        "import textwrap"
      ]
    },
    {
      "cell_type": "code",
      "source": [
        "# create substitution cipher\n",
        "\n",
        "# one will act as the key, other as the value\n",
        "letters1 = list(string.ascii_lowercase)\n",
        "letters2 = list(string.ascii_lowercase)\n",
        "\n",
        "true_mapping = {}\n",
        "\n",
        "# shuffle second set of letters\n",
        "random.shuffle(letters2)\n",
        "\n",
        "# populate map\n",
        "for k,v in zip(letters1, letters2):\n",
        "  true_mapping[k]=v"
      ],
      "metadata": {
        "id": "zoKYKbOKMdiu"
      },
      "execution_count": null,
      "outputs": []
    },
    {
      "cell_type": "code",
      "source": [
        "true_mapping"
      ],
      "metadata": {
        "colab": {
          "base_uri": "https://localhost:8080/"
        },
        "id": "GY48bisfMyAD",
        "outputId": "a714ca30-37be-4785-be7a-82100132b8b9"
      },
      "execution_count": null,
      "outputs": [
        {
          "output_type": "execute_result",
          "data": {
            "text/plain": [
              "{'a': 'n',\n",
              " 'b': 'p',\n",
              " 'c': 'q',\n",
              " 'd': 'k',\n",
              " 'e': 'o',\n",
              " 'f': 'r',\n",
              " 'g': 'c',\n",
              " 'h': 's',\n",
              " 'i': 'w',\n",
              " 'j': 'd',\n",
              " 'k': 'e',\n",
              " 'l': 'g',\n",
              " 'm': 'u',\n",
              " 'n': 'y',\n",
              " 'o': 'v',\n",
              " 'p': 'a',\n",
              " 'q': 't',\n",
              " 'r': 'x',\n",
              " 's': 'm',\n",
              " 't': 'h',\n",
              " 'u': 'z',\n",
              " 'v': 'f',\n",
              " 'w': 'i',\n",
              " 'x': 'l',\n",
              " 'y': 'j',\n",
              " 'z': 'b'}"
            ]
          },
          "metadata": {},
          "execution_count": 4
        }
      ]
    },
    {
      "cell_type": "markdown",
      "source": [
        "### Cipher Decryption using Markov language model"
      ],
      "metadata": {
        "id": "eFsVS3vSS_MD"
      }
    },
    {
      "cell_type": "code",
      "source": [
        "## language model\n",
        "\n",
        "# initial markov matrix\n",
        "M = np.ones((26,26))\n",
        "\n",
        "# initial state distribution\n",
        "pi = np.zeros(26)"
      ],
      "metadata": {
        "id": "4vNP_hQxNcLk"
      },
      "execution_count": null,
      "outputs": []
    },
    {
      "cell_type": "code",
      "source": [
        "# function to update the Markov Martix\n",
        "def update_transition(ch1, ch2):\n",
        "  i = ord(ch1) - 97\n",
        "  j = ord(ch2) - 97\n",
        "  M[i,j] += 1\n",
        "\n",
        "# function to update the initial state distribution\n",
        "def update_pi(ch):\n",
        "  i=ord(ch)-97\n",
        "  pi[i] += 1"
      ],
      "metadata": {
        "id": "8cbNJiNyNuzL"
      },
      "execution_count": null,
      "outputs": []
    },
    {
      "cell_type": "code",
      "source": [
        "# function to get log-probability of a word/token\n",
        "def get_word_prob(word):\n",
        "  #print (\"word\":,word)\n",
        "  i = ord(word[0])-97\n",
        "  logp = np.log(pi[i])\n",
        "\n",
        "  for ch in word[1:]:\n",
        "    j = ord(ch) - 97\n",
        "    logp += np.log(M[i,j]) #update the prob\n",
        "    i = j #update i\n",
        "\n",
        "  return logp"
      ],
      "metadata": {
        "id": "hYZ1AsmlOLSj"
      },
      "execution_count": null,
      "outputs": []
    },
    {
      "cell_type": "code",
      "source": [
        "# function to get the probability of a sequence of words\n",
        "def get_sequence_prob(words):\n",
        "  # if input is string, split it into a array of tokens\n",
        "  if type(words) == str:\n",
        "    words = words.split()\n",
        "\n",
        "  logp = 0\n",
        "  for word in words:\n",
        "    logp += get_word_prob(word)\n",
        "  return logp"
      ],
      "metadata": {
        "id": "wLpHqdREOnfn"
      },
      "execution_count": null,
      "outputs": []
    },
    {
      "cell_type": "code",
      "source": [
        "# create a markov model based on a English dataset\n",
        "\n",
        "# download the file\n",
        "if not os.path.exists('moby_dock.txt'):\n",
        "  print(\"Downloading moby dick...\")\n",
        "  r = requests.get(\"https://lazyprogrammer.me/course_files/moby_dick.txt\")\n",
        "  with open('moby_dock.txt', 'w') as f:\n",
        "    f.write(r.content.decode())"
      ],
      "metadata": {
        "colab": {
          "base_uri": "https://localhost:8080/"
        },
        "id": "V2j8NrYxO6TW",
        "outputId": "7e5d9c79-5ae7-41be-b086-a02b9a13a870"
      },
      "execution_count": null,
      "outputs": [
        {
          "output_type": "stream",
          "name": "stdout",
          "text": [
            "Downloading moby dick...\n"
          ]
        }
      ]
    },
    {
      "cell_type": "code",
      "source": [
        "# regex for replacing non-alpha characters\n",
        "regex = re.compile('[^a-zA-Z]')\n",
        "\n",
        "# load in the words\n",
        "for line in open('moby_dock.txt'):\n",
        "  line = line.rstrip()\n",
        "\n",
        "  # there are blank lines in the file\n",
        "  if line:\n",
        "    line = regex.sub(' ', line) # replace all non-alpha characters with space\n",
        "\n",
        "    # split the tokens in the line and lowercase\n",
        "    tokens = line.lower().split()\n",
        "\n",
        "    for token in tokens:\n",
        "      # update the model\n",
        "\n",
        "      # first letter\n",
        "      ch0 = token[0]\n",
        "      update_pi(ch0)\n",
        "\n",
        "      # other letters\n",
        "      for ch1 in token[1:]:\n",
        "        update_transition(ch0,ch1)\n",
        "        ch0 = ch1\n",
        "\n",
        "# normalize the probabilities\n",
        "pi /= pi.sum()\n",
        "M /= M.sum(axis=1, keepdims=True)"
      ],
      "metadata": {
        "id": "wnbxVVTbPdA1"
      },
      "execution_count": null,
      "outputs": []
    },
    {
      "cell_type": "code",
      "source": [
        "original_message = \"\"\"\n",
        "I then lounged down the street and found, as I expected, that there was a mews\n",
        "in a lane which runs down by one wall of the garden. I lent the ostlers a hand\n",
        "in rubbing down their horses, and received in exchange twopence, a glass of\n",
        "half-and-half, two fills of shag tobacco, and as much information as I could\n",
        "desire about Miss Adler, to say nothing of half a dozen other people in the neighbourhood\n",
        "in whom I was not in the least interested, but whose biographies I was compelled to listen to.\n",
        "\"\"\""
      ],
      "metadata": {
        "id": "IB5_PpJsQYr5"
      },
      "execution_count": null,
      "outputs": []
    },
    {
      "cell_type": "code",
      "source": [
        "# make a function to encode the message\n",
        "def encode_message(msg):\n",
        "  # downcase\n",
        "  msg = msg.lower()\n",
        "\n",
        "  # replace non-alpha characters\n",
        "  msg = regex.sub(' ', msg)\n",
        "\n",
        "  # make the encoded message\n",
        "  coded_msg = []\n",
        "  for ch in msg:\n",
        "    coded_ch = ch # this could be just a space too\n",
        "    if ch in true_mapping:\n",
        "      coded_ch = true_mapping[ch]\n",
        "    coded_msg.append(coded_ch)\n",
        "  return ''.join(coded_msg)"
      ],
      "metadata": {
        "id": "iC4hXEhqQ8WO"
      },
      "execution_count": null,
      "outputs": []
    },
    {
      "cell_type": "code",
      "source": [
        "encoded_message = encode_message(original_message)\n",
        "encoded_message"
      ],
      "metadata": {
        "colab": {
          "base_uri": "https://localhost:8080/",
          "height": 140
        },
        "id": "rNwiZM11RhDT",
        "outputId": "aa976265-3e19-4567-f247-b271d2927170"
      },
      "execution_count": null,
      "outputs": [
        {
          "output_type": "execute_result",
          "data": {
            "text/plain": [
              "' w hsoy gvzycok kviy hso mhxooh nyk rvzyk  nm w olaoqhok  hsnh hsoxo inm n uoim  wy n gnyo iswqs xzym kviy pj vyo ingg vr hso cnxkoy  w goyh hso vmhgoxm n snyk  wy xzppwyc kviy hsowx svxmom  nyk xoqowfok wy olqsnyco hivaoyqo  n cgnmm vr  sngr nyk sngr  hiv rwggm vr msnc hvpnqqv  nyk nm uzqs wyrvxunhwvy nm w qvzgk  komwxo npvzh uwmm nkgox  hv mnj yvhswyc vr sngr n kvboy vhsox aovago wy hso yowcspvzxsvvk  wy isvu w inm yvh wy hso gonmh wyhoxomhok  pzh isvmo pwvcxnaswom w inm qvuaoggok hv gwmhoy hv  '"
            ],
            "application/vnd.google.colaboratory.intrinsic+json": {
              "type": "string"
            }
          },
          "metadata": {},
          "execution_count": 16
        }
      ]
    },
    {
      "cell_type": "code",
      "source": [
        "# make a map from true_mapping for decoding the message\n",
        "map_decode = {}\n",
        "for k,v in true_mapping.items():\n",
        "  map_decode[v]=k"
      ],
      "metadata": {
        "id": "9RqbqScySgwZ"
      },
      "execution_count": null,
      "outputs": []
    },
    {
      "cell_type": "code",
      "source": [
        "# making a function to decode the message\n",
        "def decode_message(msg, word_map):\n",
        "  decoded_msg = []\n",
        "  for ch in msg:\n",
        "    decoded_ch = ch\n",
        "    if ch in word_map:\n",
        "      decoded_ch = word_map[ch]\n",
        "    decoded_msg.append(decoded_ch)\n",
        "  return ''.join(decoded_msg)"
      ],
      "metadata": {
        "id": "FlyBz-42RhHq"
      },
      "execution_count": null,
      "outputs": []
    },
    {
      "cell_type": "code",
      "source": [
        "decoded_msg = decode_message(encoded_message, map_decode)\n",
        "decoded_msg"
      ],
      "metadata": {
        "colab": {
          "base_uri": "https://localhost:8080/",
          "height": 140
        },
        "id": "wcaF3cUYRhLl",
        "outputId": "42a129bc-4beb-4e96-f390-c90e0de4b27f"
      },
      "execution_count": null,
      "outputs": [
        {
          "output_type": "execute_result",
          "data": {
            "text/plain": [
              "' i then lounged down the street and found  as i expected  that there was a mews  in a lane which runs down by one wall of the garden  i lent the ostlers a hand  in rubbing down their horses  and received in exchange twopence  a glass of  half and half  two fills of shag tobacco  and as much information as i could  desire about miss adler  to say nothing of half a dozen other people in the neighbourhood  in whom i was not in the least interested  but whose biographies i was compelled to listen to  '"
            ],
            "application/vnd.google.colaboratory.intrinsic+json": {
              "type": "string"
            }
          },
          "metadata": {},
          "execution_count": 21
        }
      ]
    },
    {
      "cell_type": "code",
      "source": [],
      "metadata": {
        "id": "obEQaDrZRhOA"
      },
      "execution_count": null,
      "outputs": []
    },
    {
      "cell_type": "markdown",
      "source": [
        "### Cipher decryption using Genetic algorithm"
      ],
      "metadata": {
        "id": "HTy-XjY4TFBG"
      }
    },
    {
      "cell_type": "code",
      "source": [
        "# making the initialization point\n",
        "dna_pool = []\n",
        "for _ in range(20):\n",
        "  dna = list(string.ascii_lowercase)\n",
        "  random.shuffle(dna)\n",
        "  dna_pool.append(dna)"
      ],
      "metadata": {
        "id": "-a4e4p-ITHvA"
      },
      "execution_count": null,
      "outputs": []
    },
    {
      "cell_type": "code",
      "source": [
        "print(*dna_pool, sep='\\n')"
      ],
      "metadata": {
        "colab": {
          "base_uri": "https://localhost:8080/"
        },
        "id": "At5tomt_TJkS",
        "outputId": "949916ab-f97b-4440-cf76-bdfa0feedad5"
      },
      "execution_count": null,
      "outputs": [
        {
          "output_type": "stream",
          "name": "stdout",
          "text": [
            "['p', 'f', 'y', 'b', 't', 'j', 'q', 'c', 'g', 's', 'w', 'a', 'e', 'r', 'v', 'u', 'm', 'x', 'n', 'k', 'h', 'z', 'l', 'o', 'i', 'd']\n",
            "['z', 'b', 'g', 'c', 'r', 't', 'w', 'u', 'j', 'e', 'q', 's', 'a', 'h', 'x', 'i', 'n', 'v', 'p', 'k', 'd', 'm', 'o', 'l', 'f', 'y']\n",
            "['a', 'h', 'q', 'k', 'n', 'd', 'x', 'r', 'v', 'o', 's', 't', 'c', 'm', 'p', 'z', 'e', 'b', 'l', 'i', 'y', 'w', 'u', 'g', 'f', 'j']\n",
            "['w', 't', 'i', 'b', 'q', 'z', 'n', 'm', 'x', 'e', 'p', 'h', 'r', 'f', 'g', 'o', 'a', 'd', 'v', 'y', 'l', 'u', 'c', 'j', 'k', 's']\n",
            "['e', 'u', 'm', 'a', 'o', 'x', 'd', 'r', 'c', 'y', 'g', 'w', 't', 'z', 'v', 'f', 'l', 'n', 'h', 'j', 'q', 'k', 'p', 'b', 'i', 's']\n",
            "['l', 'r', 'u', 'w', 'h', 'i', 'v', 'y', 'd', 'n', 's', 'z', 'b', 'j', 'c', 'e', 'o', 'g', 'm', 'q', 'x', 'f', 't', 'a', 'k', 'p']\n",
            "['r', 'k', 'o', 'm', 'v', 'x', 'b', 'q', 'f', 't', 'c', 'u', 'n', 'g', 'p', 'y', 'z', 'a', 'e', 'w', 'l', 'd', 's', 'h', 'i', 'j']\n",
            "['k', 'l', 'e', 'b', 'r', 'q', 'u', 'n', 'a', 'p', 'i', 'c', 'y', 'f', 'j', 't', 's', 'o', 'd', 'v', 'x', 'h', 'g', 'z', 'w', 'm']\n",
            "['p', 'i', 'f', 'r', 'y', 'l', 'v', 'n', 's', 'g', 'a', 'u', 'o', 't', 'e', 'j', 'b', 'z', 'h', 'w', 'c', 'm', 'q', 'x', 'd', 'k']\n",
            "['c', 'x', 'w', 'n', 'q', 'h', 'f', 'y', 'p', 'i', 't', 's', 'm', 'u', 'b', 'g', 'z', 'j', 'r', 'a', 'k', 'd', 'l', 'e', 'v', 'o']\n",
            "['s', 'o', 'w', 'v', 'q', 'k', 'e', 't', 'n', 'a', 'h', 'm', 'y', 'i', 'r', 'l', 'u', 'd', 'c', 'x', 'j', 'f', 'z', 'p', 'g', 'b']\n",
            "['n', 'f', 'y', 'x', 't', 'v', 'g', 'a', 'j', 'c', 'b', 'l', 'q', 'd', 's', 'u', 'p', 'z', 'h', 'o', 'e', 'w', 'k', 'i', 'm', 'r']\n",
            "['l', 'm', 'w', 'r', 'd', 'v', 'j', 't', 'k', 'h', 'f', 'q', 'p', 's', 'u', 'c', 'n', 'o', 'e', 'i', 'g', 'z', 'y', 'a', 'b', 'x']\n",
            "['r', 'j', 'i', 'c', 'w', 'h', 's', 'o', 'd', 'n', 'u', 'a', 'z', 'm', 'k', 'l', 'e', 'f', 'g', 'p', 'x', 'y', 'b', 't', 'q', 'v']\n",
            "['y', 'l', 'a', 'o', 'p', 'i', 'c', 'z', 'd', 'x', 'g', 't', 'f', 'k', 'u', 'w', 'n', 'v', 'm', 's', 'q', 'r', 'j', 'e', 'h', 'b']\n",
            "['n', 's', 'o', 'b', 'r', 'q', 'y', 'h', 'j', 'l', 't', 'w', 'k', 'u', 'd', 'x', 'p', 'i', 'g', 'z', 'e', 'v', 'f', 'a', 'c', 'm']\n",
            "['s', 'l', 'e', 'p', 'i', 'b', 'f', 'j', 'd', 'k', 'u', 'h', 'r', 'y', 'g', 'z', 'w', 'x', 'o', 'n', 'm', 'q', 'a', 't', 'c', 'v']\n",
            "['v', 'q', 'y', 'c', 'p', 'e', 'j', 'x', 'f', 'z', 'w', 't', 'm', 'n', 'u', 'r', 'i', 's', 'd', 'k', 'o', 'a', 'l', 'b', 'h', 'g']\n",
            "['g', 'i', 'y', 'v', 'l', 't', 'r', 'c', 'm', 'k', 'f', 'e', 'w', 'u', 'b', 'd', 'n', 'a', 'o', 'z', 'h', 'p', 'j', 'q', 's', 'x']\n",
            "['g', 'p', 'i', 'h', 't', 's', 'z', 'l', 'y', 'f', 'e', 'm', 'c', 'q', 'u', 'v', 'd', 'j', 'w', 'r', 'a', 'b', 'n', 'x', 'k', 'o']\n"
          ]
        }
      ]
    },
    {
      "cell_type": "code",
      "source": [
        "def evolve_offspring(dna_pool, n_children):\n",
        "  # make n_children per offspring\n",
        "  offspring = []\n",
        "\n",
        "  for dna in dna_pool:\n",
        "    for _ in range(n_children):\n",
        "      copy = dna.copy()\n",
        "      j = np.random.randint(len(copy))\n",
        "      k = np.random.randint(len(copy))\n",
        "\n",
        "      # switch\n",
        "      tmp = copy[j]\n",
        "      copy[j] = copy[k]\n",
        "      copy[k] = tmp\n",
        "      offspring.append(copy)\n",
        "  return offspring + dna_pool"
      ],
      "metadata": {
        "id": "tqMz0Jm-TJmA"
      },
      "execution_count": null,
      "outputs": []
    },
    {
      "cell_type": "code",
      "source": [
        "print(*evolve_offspring(dna_pool, 5), sep='\\n')\n",
        "print(len(evolve_offspring(dna_pool, 5)))"
      ],
      "metadata": {
        "colab": {
          "base_uri": "https://localhost:8080/"
        },
        "id": "KZBHS7FGTJpk",
        "outputId": "d91f930c-16e1-4ca7-8b7a-ea8fc397db6b"
      },
      "execution_count": null,
      "outputs": [
        {
          "output_type": "stream",
          "name": "stdout",
          "text": [
            "['p', 'j', 'y', 'b', 't', 'f', 'q', 'c', 'g', 's', 'w', 'a', 'e', 'r', 'v', 'u', 'm', 'x', 'n', 'k', 'h', 'z', 'l', 'o', 'i', 'd']\n",
            "['p', 'f', 'y', 'b', 't', 's', 'q', 'c', 'g', 'j', 'w', 'a', 'e', 'r', 'v', 'u', 'm', 'x', 'n', 'k', 'h', 'z', 'l', 'o', 'i', 'd']\n",
            "['p', 'f', 'y', 'b', 't', 'j', 'a', 'c', 'g', 's', 'w', 'q', 'e', 'r', 'v', 'u', 'm', 'x', 'n', 'k', 'h', 'z', 'l', 'o', 'i', 'd']\n",
            "['p', 'f', 'y', 'b', 't', 'j', 'q', 'r', 'g', 's', 'w', 'a', 'e', 'c', 'v', 'u', 'm', 'x', 'n', 'k', 'h', 'z', 'l', 'o', 'i', 'd']\n",
            "['p', 'f', 'y', 'b', 't', 'j', 'q', 'c', 'h', 's', 'w', 'a', 'e', 'r', 'v', 'u', 'm', 'x', 'n', 'k', 'g', 'z', 'l', 'o', 'i', 'd']\n",
            "['z', 'j', 'g', 'c', 'r', 't', 'w', 'u', 'b', 'e', 'q', 's', 'a', 'h', 'x', 'i', 'n', 'v', 'p', 'k', 'd', 'm', 'o', 'l', 'f', 'y']\n",
            "['z', 'q', 'g', 'c', 'r', 't', 'w', 'u', 'j', 'e', 'b', 's', 'a', 'h', 'x', 'i', 'n', 'v', 'p', 'k', 'd', 'm', 'o', 'l', 'f', 'y']\n",
            "['q', 'b', 'g', 'c', 'r', 't', 'w', 'u', 'j', 'e', 'z', 's', 'a', 'h', 'x', 'i', 'n', 'v', 'p', 'k', 'd', 'm', 'o', 'l', 'f', 'y']\n",
            "['z', 'b', 'g', 'c', 'r', 't', 'w', 'u', 'j', 'e', 'q', 's', 'a', 'h', 'x', 'i', 'm', 'v', 'p', 'k', 'd', 'n', 'o', 'l', 'f', 'y']\n",
            "['z', 'a', 'g', 'c', 'r', 't', 'w', 'u', 'j', 'e', 'q', 's', 'b', 'h', 'x', 'i', 'n', 'v', 'p', 'k', 'd', 'm', 'o', 'l', 'f', 'y']\n",
            "['a', 'r', 'q', 'k', 'n', 'd', 'x', 'h', 'v', 'o', 's', 't', 'c', 'm', 'p', 'z', 'e', 'b', 'l', 'i', 'y', 'w', 'u', 'g', 'f', 'j']\n",
            "['a', 'h', 'q', 'k', 'n', 'd', 'x', 'r', 'v', 'o', 's', 'p', 'c', 'm', 't', 'z', 'e', 'b', 'l', 'i', 'y', 'w', 'u', 'g', 'f', 'j']\n",
            "['a', 'h', 'q', 'k', 'n', 'd', 'x', 'r', 'v', 'o', 's', 't', 'c', 'm', 'p', 'z', 'e', 'b', 'l', 'i', 'y', 'w', 'j', 'g', 'f', 'u']\n",
            "['a', 'h', 'q', 'k', 'n', 'd', 'x', 'r', 'v', 'g', 's', 't', 'c', 'm', 'p', 'z', 'e', 'b', 'l', 'i', 'y', 'w', 'u', 'o', 'f', 'j']\n",
            "['a', 'h', 'q', 'k', 'n', 'd', 'x', 'r', 'v', 'o', 's', 't', 'c', 'm', 'p', 'z', 'e', 'b', 'y', 'i', 'l', 'w', 'u', 'g', 'f', 'j']\n",
            "['w', 't', 'i', 'b', 'q', 'z', 'n', 'm', 'x', 'e', 'p', 'h', 'y', 'f', 'g', 'o', 'a', 'd', 'v', 'r', 'l', 'u', 'c', 'j', 'k', 's']\n",
            "['w', 't', 'i', 'b', 'q', 'z', 'n', 'm', 'y', 'e', 'p', 'h', 'r', 'f', 'g', 'o', 'a', 'd', 'v', 'x', 'l', 'u', 'c', 'j', 'k', 's']\n",
            "['w', 't', 'i', 'v', 'q', 'z', 'n', 'm', 'x', 'e', 'p', 'h', 'r', 'f', 'g', 'o', 'a', 'd', 'b', 'y', 'l', 'u', 'c', 'j', 'k', 's']\n",
            "['w', 't', 'i', 'b', 'q', 'z', 'n', 'm', 'x', 's', 'p', 'h', 'r', 'f', 'g', 'o', 'a', 'd', 'v', 'y', 'l', 'u', 'c', 'j', 'k', 'e']\n",
            "['w', 'p', 'i', 'b', 'q', 'z', 'n', 'm', 'x', 'e', 't', 'h', 'r', 'f', 'g', 'o', 'a', 'd', 'v', 'y', 'l', 'u', 'c', 'j', 'k', 's']\n",
            "['e', 'u', 'm', 'a', 'o', 'x', 'd', 'r', 'c', 'y', 'g', 'h', 't', 'z', 'v', 'f', 'l', 'n', 'w', 'j', 'q', 'k', 'p', 'b', 'i', 's']\n",
            "['e', 'u', 'm', 'a', 'o', 'x', 'd', 'r', 'c', 'y', 'g', 'w', 't', 'z', 'j', 'f', 'l', 'n', 'h', 'v', 'q', 'k', 'p', 'b', 'i', 's']\n",
            "['n', 'u', 'm', 'a', 'o', 'x', 'd', 'r', 'c', 'y', 'g', 'w', 't', 'z', 'v', 'f', 'l', 'e', 'h', 'j', 'q', 'k', 'p', 'b', 'i', 's']\n",
            "['e', 'k', 'm', 'a', 'o', 'x', 'd', 'r', 'c', 'y', 'g', 'w', 't', 'z', 'v', 'f', 'l', 'n', 'h', 'j', 'q', 'u', 'p', 'b', 'i', 's']\n",
            "['e', 'u', 'm', 'a', 'o', 'x', 'd', 'r', 'c', 'y', 'g', 'w', 't', 'z', 'n', 'f', 'l', 'v', 'h', 'j', 'q', 'k', 'p', 'b', 'i', 's']\n",
            "['l', 'r', 'u', 'w', 'v', 'i', 'h', 'y', 'd', 'n', 's', 'z', 'b', 'j', 'c', 'e', 'o', 'g', 'm', 'q', 'x', 'f', 't', 'a', 'k', 'p']\n",
            "['l', 'r', 'u', 'w', 'h', 'i', 'v', 'y', 'd', 'n', 's', 'z', 'b', 'j', 'c', 'e', 'o', 'g', 'm', 'f', 'x', 'q', 't', 'a', 'k', 'p']\n",
            "['l', 'r', 'u', 'w', 'f', 'i', 'v', 'y', 'd', 'n', 's', 'z', 'b', 'j', 'c', 'e', 'o', 'g', 'm', 'q', 'x', 'h', 't', 'a', 'k', 'p']\n",
            "['l', 'r', 'u', 'w', 'h', 'i', 'v', 'y', 'd', 'n', 's', 'z', 't', 'j', 'c', 'e', 'o', 'g', 'm', 'q', 'x', 'f', 'b', 'a', 'k', 'p']\n",
            "['x', 'r', 'u', 'w', 'h', 'i', 'v', 'y', 'd', 'n', 's', 'z', 'b', 'j', 'c', 'e', 'o', 'g', 'm', 'q', 'l', 'f', 't', 'a', 'k', 'p']\n",
            "['r', 'k', 'o', 'm', 'v', 'x', 'b', 'q', 'f', 't', 'c', 'u', 'n', 'g', 'y', 'p', 'z', 'a', 'e', 'w', 'l', 'd', 's', 'h', 'i', 'j']\n",
            "['r', 'k', 'o', 'm', 'v', 'p', 'b', 'q', 'f', 't', 'c', 'u', 'n', 'g', 'x', 'y', 'z', 'a', 'e', 'w', 'l', 'd', 's', 'h', 'i', 'j']\n",
            "['r', 'k', 'o', 'm', 'v', 'x', 't', 'q', 'f', 'b', 'c', 'u', 'n', 'g', 'p', 'y', 'z', 'a', 'e', 'w', 'l', 'd', 's', 'h', 'i', 'j']\n",
            "['r', 'k', 'c', 'm', 'v', 'x', 'b', 'q', 'f', 't', 'o', 'u', 'n', 'g', 'p', 'y', 'z', 'a', 'e', 'w', 'l', 'd', 's', 'h', 'i', 'j']\n",
            "['r', 'k', 'o', 'm', 'v', 'x', 'b', 'q', 'f', 't', 'i', 'u', 'n', 'g', 'p', 'y', 'z', 'a', 'e', 'w', 'l', 'd', 's', 'h', 'c', 'j']\n",
            "['k', 'l', 'e', 'b', 'r', 'q', 'u', 'n', 'a', 'p', 'i', 'c', 'y', 'f', 'j', 't', 's', 'o', 'd', 'x', 'v', 'h', 'g', 'z', 'w', 'm']\n",
            "['k', 'l', 'e', 'b', 'r', 'q', 'u', 'x', 'a', 'p', 'i', 'c', 'y', 'f', 'j', 't', 's', 'o', 'd', 'v', 'n', 'h', 'g', 'z', 'w', 'm']\n",
            "['k', 'l', 'e', 'b', 'r', 'q', 'u', 'f', 'a', 'p', 'i', 'c', 'y', 'n', 'j', 't', 's', 'o', 'd', 'v', 'x', 'h', 'g', 'z', 'w', 'm']\n",
            "['k', 'l', 'e', 'b', 'r', 'q', 'u', 'n', 'a', 'p', 'i', 'c', 'y', 'f', 'j', 't', 's', 'o', 'd', 'm', 'x', 'h', 'g', 'z', 'w', 'v']\n",
            "['k', 'l', 'e', 'b', 'r', 'q', 'v', 'n', 'a', 'p', 'i', 'c', 'y', 'f', 'j', 't', 's', 'o', 'd', 'u', 'x', 'h', 'g', 'z', 'w', 'm']\n",
            "['p', 'i', 'f', 'r', 'y', 'l', 'v', 'n', 'd', 'g', 'a', 'u', 'o', 't', 'e', 'j', 'b', 'z', 'h', 'w', 'c', 'm', 'q', 'x', 's', 'k']\n",
            "['p', 'i', 'f', 'r', 'y', 'l', 'v', 'n', 's', 'g', 'a', 'u', 'o', 't', 'e', 'k', 'b', 'z', 'h', 'w', 'c', 'm', 'q', 'x', 'd', 'j']\n",
            "['p', 'w', 'f', 'r', 'y', 'l', 'v', 'n', 's', 'g', 'a', 'u', 'o', 't', 'e', 'j', 'b', 'z', 'h', 'i', 'c', 'm', 'q', 'x', 'd', 'k']\n",
            "['p', 'i', 'f', 'r', 'y', 'l', 'v', 'n', 's', 'z', 'a', 'u', 'o', 't', 'e', 'j', 'b', 'g', 'h', 'w', 'c', 'm', 'q', 'x', 'd', 'k']\n",
            "['p', 'i', 'f', 'r', 'y', 'l', 'v', 'n', 's', 'g', 'a', 'u', 'o', 't', 'e', 'j', 'b', 'k', 'h', 'w', 'c', 'm', 'q', 'x', 'd', 'z']\n",
            "['c', 'x', 'w', 'n', 'q', 'h', 'f', 'y', 'j', 'i', 't', 's', 'm', 'u', 'b', 'g', 'z', 'p', 'r', 'a', 'k', 'd', 'l', 'e', 'v', 'o']\n",
            "['c', 'x', 'w', 'n', 'q', 'h', 'f', 'y', 'p', 'i', 't', 's', 'm', 'u', 'b', 'g', 'z', 'j', 'k', 'a', 'r', 'd', 'l', 'e', 'v', 'o']\n",
            "['c', 'x', 'w', 'n', 'q', 'h', 'f', 'y', 'p', 'l', 't', 's', 'm', 'u', 'b', 'g', 'z', 'j', 'r', 'a', 'k', 'd', 'i', 'e', 'v', 'o']\n",
            "['c', 'x', 'w', 'y', 'q', 'h', 'f', 'n', 'p', 'i', 't', 's', 'm', 'u', 'b', 'g', 'z', 'j', 'r', 'a', 'k', 'd', 'l', 'e', 'v', 'o']\n",
            "['c', 'x', 'w', 'n', 'q', 'h', 'o', 'y', 'p', 'i', 't', 's', 'm', 'u', 'b', 'g', 'z', 'j', 'r', 'a', 'k', 'd', 'l', 'e', 'v', 'f']\n",
            "['s', 'o', 'w', 'v', 'q', 'k', 'e', 't', 'n', 'a', 'h', 'm', 'y', 'i', 'x', 'l', 'u', 'd', 'c', 'r', 'j', 'f', 'z', 'p', 'g', 'b']\n",
            "['x', 'o', 'w', 'v', 'q', 'k', 'e', 't', 'n', 'a', 'h', 'm', 'y', 'i', 'r', 'l', 'u', 'd', 'c', 's', 'j', 'f', 'z', 'p', 'g', 'b']\n",
            "['s', 'o', 'w', 'v', 'q', 'k', 'j', 't', 'n', 'a', 'h', 'm', 'y', 'i', 'r', 'l', 'u', 'd', 'c', 'x', 'e', 'f', 'z', 'p', 'g', 'b']\n",
            "['s', 'o', 'w', 'v', 'q', 'k', 'e', 'h', 'n', 'a', 't', 'm', 'y', 'i', 'r', 'l', 'u', 'd', 'c', 'x', 'j', 'f', 'z', 'p', 'g', 'b']\n",
            "['s', 'o', 'w', 'v', 'q', 'k', 'e', 't', 'h', 'a', 'n', 'm', 'y', 'i', 'r', 'l', 'u', 'd', 'c', 'x', 'j', 'f', 'z', 'p', 'g', 'b']\n",
            "['n', 'i', 'y', 'x', 't', 'v', 'g', 'a', 'j', 'c', 'b', 'l', 'q', 'd', 's', 'u', 'p', 'z', 'h', 'o', 'e', 'w', 'k', 'f', 'm', 'r']\n",
            "['n', 'f', 'y', 'x', 't', 'v', 'g', 'a', 'j', 'c', 'b', 'l', 'p', 'd', 's', 'u', 'q', 'z', 'h', 'o', 'e', 'w', 'k', 'i', 'm', 'r']\n",
            "['n', 'f', 'e', 'x', 't', 'v', 'g', 'a', 'j', 'c', 'b', 'l', 'q', 'd', 's', 'u', 'p', 'z', 'h', 'o', 'y', 'w', 'k', 'i', 'm', 'r']\n",
            "['n', 'f', 'y', 'x', 'q', 'v', 'g', 'a', 'j', 'c', 'b', 'l', 't', 'd', 's', 'u', 'p', 'z', 'h', 'o', 'e', 'w', 'k', 'i', 'm', 'r']\n",
            "['r', 'f', 'y', 'x', 't', 'v', 'g', 'a', 'j', 'c', 'b', 'l', 'q', 'd', 's', 'u', 'p', 'z', 'h', 'o', 'e', 'w', 'k', 'i', 'm', 'n']\n",
            "['i', 'm', 'w', 'r', 'd', 'v', 'j', 't', 'k', 'h', 'f', 'q', 'p', 's', 'u', 'c', 'n', 'o', 'e', 'l', 'g', 'z', 'y', 'a', 'b', 'x']\n",
            "['l', 'm', 'w', 'r', 'd', 'v', 'g', 't', 'k', 'h', 'f', 'q', 'p', 's', 'u', 'c', 'n', 'o', 'e', 'i', 'j', 'z', 'y', 'a', 'b', 'x']\n",
            "['l', 'm', 'w', 'r', 'd', 'v', 'j', 't', 'k', 'h', 'f', 'q', 'p', 's', 'u', 'c', 'n', 'o', 'i', 'e', 'g', 'z', 'y', 'a', 'b', 'x']\n",
            "['l', 'm', 'w', 'r', 'd', 'v', 'j', 't', 'k', 'h', 'f', 'q', 'p', 's', 'c', 'u', 'n', 'o', 'e', 'i', 'g', 'z', 'y', 'a', 'b', 'x']\n",
            "['l', 'm', 'w', 'r', 'd', 'v', 'j', 't', 'k', 'h', 's', 'q', 'p', 'f', 'u', 'c', 'n', 'o', 'e', 'i', 'g', 'z', 'y', 'a', 'b', 'x']\n",
            "['r', 'j', 'i', 'c', 'w', 'h', 's', 'o', 'd', 'n', 'u', 'a', 'z', 'm', 'k', 'l', 'e', 'f', 'g', 't', 'x', 'y', 'b', 'p', 'q', 'v']\n",
            "['r', 'd', 'i', 'c', 'w', 'h', 's', 'o', 'j', 'n', 'u', 'a', 'z', 'm', 'k', 'l', 'e', 'f', 'g', 'p', 'x', 'y', 'b', 't', 'q', 'v']\n",
            "['r', 'j', 'i', 'c', 'w', 'h', 's', 'z', 'd', 'n', 'u', 'a', 'o', 'm', 'k', 'l', 'e', 'f', 'g', 'p', 'x', 'y', 'b', 't', 'q', 'v']\n",
            "['r', 'j', 'i', 'c', 'w', 'h', 'l', 'o', 'd', 'n', 'u', 'a', 'z', 'm', 'k', 's', 'e', 'f', 'g', 'p', 'x', 'y', 'b', 't', 'q', 'v']\n",
            "['r', 'j', 'i', 'c', 'w', 'h', 's', 'o', 'd', 'n', 'y', 'a', 'z', 'm', 'k', 'l', 'e', 'f', 'g', 'p', 'x', 'u', 'b', 't', 'q', 'v']\n",
            "['y', 'l', 'a', 'o', 'p', 'i', 'c', 'z', 'd', 'x', 'g', 't', 'f', 'k', 'u', 'w', 'n', 'v', 'h', 's', 'q', 'r', 'j', 'e', 'm', 'b']\n",
            "['y', 'l', 'a', 'o', 'p', 'i', 'q', 'z', 'd', 'x', 'g', 't', 'f', 'k', 'u', 'w', 'n', 'v', 'm', 's', 'c', 'r', 'j', 'e', 'h', 'b']\n",
            "['y', 'l', 'a', 'o', 'p', 'i', 'c', 'z', 'd', 'x', 's', 't', 'f', 'k', 'u', 'w', 'n', 'v', 'm', 'g', 'q', 'r', 'j', 'e', 'h', 'b']\n",
            "['y', 'l', 'a', 'o', 'p', 'i', 'c', 'z', 'd', 'x', 'g', 't', 'f', 'k', 'u', 'h', 'n', 'v', 'm', 's', 'q', 'r', 'j', 'e', 'w', 'b']\n",
            "['y', 'l', 'a', 'o', 'p', 'i', 'c', 'z', 'd', 'x', 'g', 'u', 'f', 'k', 't', 'w', 'n', 'v', 'm', 's', 'q', 'r', 'j', 'e', 'h', 'b']\n",
            "['n', 's', 'o', 'b', 'r', 'q', 'y', 'h', 'j', 'l', 't', 'w', 'f', 'u', 'd', 'x', 'p', 'i', 'g', 'z', 'e', 'v', 'k', 'a', 'c', 'm']\n",
            "['n', 's', 'o', 'b', 'r', 'q', 'y', 'h', 'j', 'l', 't', 'w', 'k', 'u', 'd', 'x', 'a', 'i', 'g', 'z', 'e', 'v', 'f', 'p', 'c', 'm']\n",
            "['n', 's', 'o', 'b', 'r', 'q', 'y', 'h', 'j', 'l', 't', 'w', 'k', 'u', 'd', 'x', 'm', 'i', 'g', 'z', 'e', 'v', 'f', 'a', 'c', 'p']\n",
            "['n', 'h', 'o', 'b', 'r', 'q', 'y', 's', 'j', 'l', 't', 'w', 'k', 'u', 'd', 'x', 'p', 'i', 'g', 'z', 'e', 'v', 'f', 'a', 'c', 'm']\n",
            "['n', 's', 'o', 'b', 'r', 'z', 'y', 'h', 'j', 'l', 't', 'w', 'k', 'u', 'd', 'x', 'p', 'i', 'g', 'q', 'e', 'v', 'f', 'a', 'c', 'm']\n",
            "['s', 'l', 'e', 'p', 'i', 'b', 'f', 'j', 'd', 'k', 'u', 'm', 'r', 'y', 'g', 'z', 'w', 'x', 'o', 'n', 'h', 'q', 'a', 't', 'c', 'v']\n",
            "['s', 'l', 'e', 'p', 'i', 'b', 'x', 'j', 'd', 'k', 'u', 'h', 'r', 'y', 'g', 'z', 'w', 'f', 'o', 'n', 'm', 'q', 'a', 't', 'c', 'v']\n",
            "['s', 'l', 'e', 'p', 'i', 'b', 'f', 'j', 'd', 'k', 'u', 'h', 'r', 'y', 'g', 'z', 'w', 'o', 'x', 'n', 'm', 'q', 'a', 't', 'c', 'v']\n",
            "['s', 'l', 'e', 'p', 'i', 'b', 'f', 'j', 'd', 'k', 't', 'h', 'r', 'y', 'g', 'z', 'w', 'x', 'o', 'n', 'm', 'q', 'a', 'u', 'c', 'v']\n",
            "['q', 'l', 'e', 'p', 'i', 'b', 'f', 'j', 'd', 'k', 'u', 'h', 'r', 'y', 'g', 'z', 'w', 'x', 'o', 'n', 'm', 's', 'a', 't', 'c', 'v']\n",
            "['v', 'q', 'y', 'c', 'p', 'e', 'j', 'x', 'f', 'z', 'w', 's', 'm', 'n', 'u', 'r', 'i', 't', 'd', 'k', 'o', 'a', 'l', 'b', 'h', 'g']\n",
            "['q', 'v', 'y', 'c', 'p', 'e', 'j', 'x', 'f', 'z', 'w', 't', 'm', 'n', 'u', 'r', 'i', 's', 'd', 'k', 'o', 'a', 'l', 'b', 'h', 'g']\n",
            "['v', 'q', 'y', 'c', 'p', 'e', 'j', 'x', 'f', 'z', 'w', 't', 'm', 'n', 'u', 'r', 'i', 's', 'd', 'a', 'o', 'k', 'l', 'b', 'h', 'g']\n",
            "['v', 'q', 'y', 'c', 'p', 'w', 'j', 'x', 'f', 'z', 'e', 't', 'm', 'n', 'u', 'r', 'i', 's', 'd', 'k', 'o', 'a', 'l', 'b', 'h', 'g']\n",
            "['v', 'q', 'w', 'c', 'p', 'e', 'j', 'x', 'f', 'z', 'y', 't', 'm', 'n', 'u', 'r', 'i', 's', 'd', 'k', 'o', 'a', 'l', 'b', 'h', 'g']\n",
            "['g', 'i', 'y', 'm', 'l', 't', 'r', 'c', 'v', 'k', 'f', 'e', 'w', 'u', 'b', 'd', 'n', 'a', 'o', 'z', 'h', 'p', 'j', 'q', 's', 'x']\n",
            "['g', 'i', 'y', 'v', 'l', 't', 'r', 'c', 'm', 'k', 'f', 's', 'w', 'u', 'b', 'd', 'n', 'a', 'o', 'z', 'h', 'p', 'j', 'q', 'e', 'x']\n",
            "['g', 'i', 'y', 'v', 'l', 't', 'p', 'c', 'm', 'k', 'f', 'e', 'w', 'u', 'b', 'd', 'n', 'a', 'o', 'z', 'h', 'r', 'j', 'q', 's', 'x']\n",
            "['g', 'i', 'y', 'o', 'l', 't', 'r', 'c', 'm', 'k', 'f', 'e', 'w', 'u', 'b', 'd', 'n', 'a', 'v', 'z', 'h', 'p', 'j', 'q', 's', 'x']\n",
            "['g', 'i', 'y', 'v', 'l', 't', 'n', 'c', 'm', 'k', 'f', 'e', 'w', 'u', 'b', 'd', 'r', 'a', 'o', 'z', 'h', 'p', 'j', 'q', 's', 'x']\n",
            "['g', 'p', 'i', 'h', 't', 's', 'z', 'l', 'y', 'f', 'e', 'o', 'c', 'q', 'u', 'v', 'd', 'j', 'w', 'r', 'a', 'b', 'n', 'x', 'k', 'm']\n",
            "['g', 'p', 'w', 'h', 't', 's', 'z', 'l', 'y', 'f', 'e', 'm', 'c', 'q', 'u', 'v', 'd', 'j', 'i', 'r', 'a', 'b', 'n', 'x', 'k', 'o']\n",
            "['g', 'p', 'i', 'h', 't', 's', 'z', 'l', 'y', 'f', 'e', 'm', 'c', 'q', 'u', 'v', 'd', 'j', 'w', 'n', 'a', 'b', 'r', 'x', 'k', 'o']\n",
            "['g', 'p', 'i', 'h', 't', 's', 'z', 'm', 'y', 'f', 'e', 'l', 'c', 'q', 'u', 'v', 'd', 'j', 'w', 'r', 'a', 'b', 'n', 'x', 'k', 'o']\n",
            "['g', 'p', 'i', 'h', 't', 's', 'z', 'x', 'y', 'f', 'e', 'm', 'c', 'q', 'u', 'v', 'd', 'j', 'w', 'r', 'a', 'b', 'n', 'l', 'k', 'o']\n",
            "['p', 'f', 'y', 'b', 't', 'j', 'q', 'c', 'g', 's', 'w', 'a', 'e', 'r', 'v', 'u', 'm', 'x', 'n', 'k', 'h', 'z', 'l', 'o', 'i', 'd']\n",
            "['z', 'b', 'g', 'c', 'r', 't', 'w', 'u', 'j', 'e', 'q', 's', 'a', 'h', 'x', 'i', 'n', 'v', 'p', 'k', 'd', 'm', 'o', 'l', 'f', 'y']\n",
            "['a', 'h', 'q', 'k', 'n', 'd', 'x', 'r', 'v', 'o', 's', 't', 'c', 'm', 'p', 'z', 'e', 'b', 'l', 'i', 'y', 'w', 'u', 'g', 'f', 'j']\n",
            "['w', 't', 'i', 'b', 'q', 'z', 'n', 'm', 'x', 'e', 'p', 'h', 'r', 'f', 'g', 'o', 'a', 'd', 'v', 'y', 'l', 'u', 'c', 'j', 'k', 's']\n",
            "['e', 'u', 'm', 'a', 'o', 'x', 'd', 'r', 'c', 'y', 'g', 'w', 't', 'z', 'v', 'f', 'l', 'n', 'h', 'j', 'q', 'k', 'p', 'b', 'i', 's']\n",
            "['l', 'r', 'u', 'w', 'h', 'i', 'v', 'y', 'd', 'n', 's', 'z', 'b', 'j', 'c', 'e', 'o', 'g', 'm', 'q', 'x', 'f', 't', 'a', 'k', 'p']\n",
            "['r', 'k', 'o', 'm', 'v', 'x', 'b', 'q', 'f', 't', 'c', 'u', 'n', 'g', 'p', 'y', 'z', 'a', 'e', 'w', 'l', 'd', 's', 'h', 'i', 'j']\n",
            "['k', 'l', 'e', 'b', 'r', 'q', 'u', 'n', 'a', 'p', 'i', 'c', 'y', 'f', 'j', 't', 's', 'o', 'd', 'v', 'x', 'h', 'g', 'z', 'w', 'm']\n",
            "['p', 'i', 'f', 'r', 'y', 'l', 'v', 'n', 's', 'g', 'a', 'u', 'o', 't', 'e', 'j', 'b', 'z', 'h', 'w', 'c', 'm', 'q', 'x', 'd', 'k']\n",
            "['c', 'x', 'w', 'n', 'q', 'h', 'f', 'y', 'p', 'i', 't', 's', 'm', 'u', 'b', 'g', 'z', 'j', 'r', 'a', 'k', 'd', 'l', 'e', 'v', 'o']\n",
            "['s', 'o', 'w', 'v', 'q', 'k', 'e', 't', 'n', 'a', 'h', 'm', 'y', 'i', 'r', 'l', 'u', 'd', 'c', 'x', 'j', 'f', 'z', 'p', 'g', 'b']\n",
            "['n', 'f', 'y', 'x', 't', 'v', 'g', 'a', 'j', 'c', 'b', 'l', 'q', 'd', 's', 'u', 'p', 'z', 'h', 'o', 'e', 'w', 'k', 'i', 'm', 'r']\n",
            "['l', 'm', 'w', 'r', 'd', 'v', 'j', 't', 'k', 'h', 'f', 'q', 'p', 's', 'u', 'c', 'n', 'o', 'e', 'i', 'g', 'z', 'y', 'a', 'b', 'x']\n",
            "['r', 'j', 'i', 'c', 'w', 'h', 's', 'o', 'd', 'n', 'u', 'a', 'z', 'm', 'k', 'l', 'e', 'f', 'g', 'p', 'x', 'y', 'b', 't', 'q', 'v']\n",
            "['y', 'l', 'a', 'o', 'p', 'i', 'c', 'z', 'd', 'x', 'g', 't', 'f', 'k', 'u', 'w', 'n', 'v', 'm', 's', 'q', 'r', 'j', 'e', 'h', 'b']\n",
            "['n', 's', 'o', 'b', 'r', 'q', 'y', 'h', 'j', 'l', 't', 'w', 'k', 'u', 'd', 'x', 'p', 'i', 'g', 'z', 'e', 'v', 'f', 'a', 'c', 'm']\n",
            "['s', 'l', 'e', 'p', 'i', 'b', 'f', 'j', 'd', 'k', 'u', 'h', 'r', 'y', 'g', 'z', 'w', 'x', 'o', 'n', 'm', 'q', 'a', 't', 'c', 'v']\n",
            "['v', 'q', 'y', 'c', 'p', 'e', 'j', 'x', 'f', 'z', 'w', 't', 'm', 'n', 'u', 'r', 'i', 's', 'd', 'k', 'o', 'a', 'l', 'b', 'h', 'g']\n",
            "['g', 'i', 'y', 'v', 'l', 't', 'r', 'c', 'm', 'k', 'f', 'e', 'w', 'u', 'b', 'd', 'n', 'a', 'o', 'z', 'h', 'p', 'j', 'q', 's', 'x']\n",
            "['g', 'p', 'i', 'h', 't', 's', 'z', 'l', 'y', 'f', 'e', 'm', 'c', 'q', 'u', 'v', 'd', 'j', 'w', 'r', 'a', 'b', 'n', 'x', 'k', 'o']\n",
            "120\n"
          ]
        }
      ]
    },
    {
      "cell_type": "code",
      "source": [
        "num_iters = 1000\n",
        "scores = np.zeros(num_iters)\n",
        "best_dna = None\n",
        "best_map = None\n",
        "best_score = float('-inf')\n",
        "\n",
        "for i in range(num_iters):\n",
        "  if i>0:\n",
        "    # get offspring from the current dna pool\n",
        "    dna_pool = evolve_offspring(dna_pool, 3)\n",
        "\n",
        "  # calculate score for each dna\n",
        "  dna2score = {}\n",
        "  for dna in dna_pool:\n",
        "    # populate map\n",
        "    current_map = {}\n",
        "    for k,v in zip(letters1, dna):\n",
        "      current_map[k] = v\n",
        "\n",
        "    decoded_message = decode_message(encoded_message, current_map)\n",
        "    score = get_sequence_prob(decoded_message)\n",
        "\n",
        "    # store it\n",
        "    # key must be a string\n",
        "    dna2score[''.join(dna)] = score\n",
        "\n",
        "    # record the best so far\n",
        "    if score > best_score:\n",
        "      best_score = score\n",
        "      best_map = current_map\n",
        "      best_dna = dna\n",
        "\n",
        "  # average score for this generation\n",
        "  scores[i] = np.mean(list(dna2score.values()))\n",
        "\n",
        "  # keep the best 5 dna\n",
        "  # also turn them back into list of single characters\n",
        "  sorted_dna = sorted(dna2score.items(), key = lambda x:x[1], reverse=True)\n",
        "  dna_pool = [list(k) for k,v in sorted_dna[:5]]\n",
        "\n",
        "  if i%100==0:\n",
        "    print(f\"iter: {i}, score: {scores[i]}, best_so_far: {best_score}\")"
      ],
      "metadata": {
        "colab": {
          "base_uri": "https://localhost:8080/"
        },
        "id": "3d8zxhr0UI29",
        "outputId": "ca6fbc29-1f86-4842-a636-5f27eedb595c"
      },
      "execution_count": null,
      "outputs": [
        {
          "output_type": "stream",
          "name": "stdout",
          "text": [
            "iter: 0, score: -2095.5012347550946, best_so_far: -1887.1846407823928\n",
            "iter: 100, score: -1319.6240316528845, best_so_far: -1229.7967232801907\n",
            "iter: 200, score: -1190.9608036259024, best_so_far: -1127.1864661364573\n",
            "iter: 300, score: -1109.5249238512388, best_so_far: -1010.9256835192423\n",
            "iter: 400, score: -1025.1903293047396, best_so_far: -943.3736961390512\n",
            "iter: 500, score: -1034.1159254873157, best_so_far: -941.5300142320273\n",
            "iter: 600, score: -1025.6425718764478, best_so_far: -941.5300142320273\n",
            "iter: 700, score: -1006.6305016563416, best_so_far: -941.5300142320273\n",
            "iter: 800, score: -1010.0005297548636, best_so_far: -941.5300142320273\n",
            "iter: 900, score: -1057.7386300293215, best_so_far: -941.5300142320273\n"
          ]
        }
      ]
    },
    {
      "cell_type": "code",
      "source": [
        "# use best score\n",
        "decoded_message = decode_message(encoded_message, best_map)\n",
        "\n",
        "print('LL of decoded message: ', get_sequence_prob(decoded_message))\n",
        "print('LL of true message: ', get_sequence_prob(regex.sub(' ', original_message.lower())))\n",
        "\n",
        "# which letters are wrong\n",
        "for true, v in true_mapping.items():\n",
        "  pred = best_map[v]\n",
        "  if true != pred:\n",
        "    print(f\"true: {true}, pred: {pred}\")"
      ],
      "metadata": {
        "colab": {
          "base_uri": "https://localhost:8080/"
        },
        "id": "HHgvISlxUco9",
        "outputId": "d283aa56-bc8c-4693-cc67-ecef7f72c0ea"
      },
      "execution_count": null,
      "outputs": [
        {
          "output_type": "stream",
          "name": "stdout",
          "text": [
            "LL of decoded message:  -941.5300142320273\n",
            "LL of true message:  -933.0312453751817\n",
            "true: b, pred: f\n",
            "true: f, pred: y\n",
            "true: j, pred: z\n",
            "true: k, pred: j\n",
            "true: y, pred: b\n",
            "true: z, pred: k\n"
          ]
        }
      ]
    },
    {
      "cell_type": "code",
      "source": [
        "print(\"Decoded message: \\n\", textwrap.fill(decoded_message, 100))\n",
        "print(\"\\nOriginal message: \\n\", original_message)"
      ],
      "metadata": {
        "colab": {
          "base_uri": "https://localhost:8080/"
        },
        "id": "ylLfo_U_Uclc",
        "outputId": "edab5e06-948d-490e-c95c-91e8138b8464"
      },
      "execution_count": null,
      "outputs": [
        {
          "output_type": "stream",
          "name": "stdout",
          "text": [
            "Decoded message: \n",
            "  i then lounged down the street and yound  as i expected  that there was a mews  in a lane which\n",
            "runs down fb one wall oy the garden  i lent the ostlers a hand  in ruffing down their horses  and\n",
            "received in exchange twopence  a glass oy  haly and haly  two yills oy shag tofacco  and as much\n",
            "inyormation as i could  desire afout miss adler  to sab nothing oy haly a doken other people in the\n",
            "neighfourhood  in whom i was not in the least interested  fut whose fiographies i was compelled to\n",
            "listen to\n",
            "\n",
            "Original message: \n",
            " \n",
            "I then lounged down the street and found, as I expected, that there was a mews \n",
            "in a lane which runs down by one wall of the garden. I lent the ostlers a hand \n",
            "in rubbing down their horses, and received in exchange twopence, a glass of \n",
            "half-and-half, two fills of shag tobacco, and as much information as I could \n",
            "desire about Miss Adler, to say nothing of half a dozen other people in the neighbourhood \n",
            "in whom I was not in the least interested, but whose biographies I was compelled to listen to.\n",
            "\n"
          ]
        }
      ]
    },
    {
      "cell_type": "code",
      "source": [
        "plt.plot(scores)\n",
        "plt.show()"
      ],
      "metadata": {
        "colab": {
          "base_uri": "https://localhost:8080/",
          "height": 430
        },
        "id": "aApLa8wvUcjl",
        "outputId": "7fdcc206-2a31-4bee-b1fa-d99e4f4164a1"
      },
      "execution_count": null,
      "outputs": [
        {
          "output_type": "display_data",
          "data": {
            "text/plain": [
              "<Figure size 640x480 with 1 Axes>"
            ],
            "image/png": "[encoded data removed]"
          },
          "metadata": {}
        }
      ]
    },
    {
      "cell_type": "code",
      "source": [],
      "metadata": {
        "id": "NOkUq9JtUchX"
      },
      "execution_count": null,
      "outputs": []
    },
    {
      "cell_type": "code",
      "source": [],
      "metadata": {
        "id": "gsBEZ6LeUce_"
      },
      "execution_count": null,
      "outputs": []
    }
  ]
}